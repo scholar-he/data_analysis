{
 "cells": [
  {
   "cell_type": "markdown",
   "metadata": {},
   "source": [
    "### Series的创建\n",
    "- Series可以认为是一维数组，但是除了数据之外还有行索引标签\n",
    "- 可以使用列表 list[]创建\n",
    "- 可以使用 ndarray 创建"
   ]
  },
  {
   "cell_type": "code",
   "execution_count": 1,
   "metadata": {},
   "outputs": [],
   "source": [
    "import numpy as np\n",
    "import pandas as pd\n",
    "from pandas import Series, DataFrame"
   ]
  },
  {
   "cell_type": "code",
   "execution_count": 5,
   "metadata": {
    "collapsed": true
   },
   "outputs": [
    {
     "data": {
      "text/plain": [
       "0    190\n",
       "1    180\n",
       "2    185\n",
       "3    182\n",
       "4    177\n",
       "5    165\n",
       "Name: height(cm), dtype: int64"
      ]
     },
     "execution_count": 5,
     "metadata": {},
     "output_type": "execute_result"
    }
   ],
   "source": [
    "# 创建6位同学的身高信息\n",
    "# index不指定时， 会自动按索引位置来创建索引\n",
    "# name 指定数据集的名称， 代表某一特征名，或某一对象的名称\n",
    "heights = Series([190, 180, 185, 182,177, 165],  name='height(cm)')\n",
    "heights"
   ]
  },
  {
   "cell_type": "code",
   "execution_count": 7,
   "metadata": {
    "collapsed": true
   },
   "outputs": [
    {
     "data": {
      "text/plain": [
       "0      97\n",
       "1      59\n",
       "2      56\n",
       "3      89\n",
       "4      57\n",
       "5      56\n",
       "6     114\n",
       "7      52\n",
       "8      86\n",
       "9      52\n",
       "10     56\n",
       "11     84\n",
       "12     91\n",
       "13    119\n",
       "14     98\n",
       "15     81\n",
       "16     74\n",
       "17    105\n",
       "18     66\n",
       "19    100\n",
       "20     91\n",
       "21     97\n",
       "22    100\n",
       "23     80\n",
       "24    107\n",
       "25     73\n",
       "26     77\n",
       "27     70\n",
       "28     85\n",
       "29    111\n",
       "30     52\n",
       "31     81\n",
       "32     52\n",
       "33    107\n",
       "34     75\n",
       "35     95\n",
       "36     87\n",
       "37     79\n",
       "38     52\n",
       "39     92\n",
       "40     89\n",
       "41     54\n",
       "Name: weight(kg), dtype: int32"
      ]
     },
     "execution_count": 7,
     "metadata": {},
     "output_type": "execute_result"
    }
   ],
   "source": [
    "# 创建42位同学的体重信息\n",
    "weights = Series(np.random.randint(50, 120, size=42), name='weight(kg)')\n",
    "weights"
   ]
  },
  {
   "cell_type": "code",
   "execution_count": 29,
   "metadata": {},
   "outputs": [
    {
     "data": {
      "text/plain": [
       "disen    26\n",
       "jack     51\n",
       "mark     49\n",
       "rose     85\n",
       "jerry    51\n",
       "Name: python, dtype: int32"
      ]
     },
     "execution_count": 29,
     "metadata": {},
     "output_type": "execute_result"
    }
   ],
   "source": [
    "# 创建5为同学的python成绩，分别是，disen, jack, mark, rose, jerry\n",
    "scores = Series(np.random.randint(100, size=5),\n",
    "               index=['disen', 'jack', 'mark', 'rose', 'jerry'],\n",
    "               name='python')\n",
    "scores"
   ]
  },
  {
   "cell_type": "code",
   "execution_count": 9,
   "metadata": {
    "collapsed": true
   },
   "outputs": [
    {
     "data": {
      "text/plain": [
       "disen    100\n",
       "jack      90\n",
       "mark      92\n",
       "rose      75\n",
       "jerry     88\n",
       "Name: python, dtype: int64"
      ]
     },
     "execution_count": 9,
     "metadata": {},
     "output_type": "execute_result"
    }
   ],
   "source": [
    "scores_2 = Series({\n",
    "    'disen': 100,\n",
    "    'jack': 90,\n",
    "    'mark': 92,\n",
    "    'rose': 75,\n",
    "    'jerry': 88\n",
    "}, name='python')\n",
    "scores_2"
   ]
  },
  {
   "cell_type": "markdown",
   "metadata": {},
   "source": [
    "### Series的索引操作\n",
    "- s[标签名]\n",
    "- s.loc[标签名]\n",
    "- s.iloc[索引位置]"
   ]
  },
  {
   "cell_type": "code",
   "execution_count": 10,
   "metadata": {},
   "outputs": [
    {
     "data": {
      "text/plain": [
       "16"
      ]
     },
     "execution_count": 10,
     "metadata": {},
     "output_type": "execute_result"
    }
   ],
   "source": [
    "# 查看disen的成绩\n",
    "scores['disen']"
   ]
  },
  {
   "cell_type": "code",
   "execution_count": 11,
   "metadata": {},
   "outputs": [
    {
     "data": {
      "text/plain": [
       "disen    16\n",
       "jerry    12\n",
       "Name: python, dtype: int32"
      ]
     },
     "execution_count": 11,
     "metadata": {},
     "output_type": "execute_result"
    }
   ],
   "source": [
    "# 查看disen和jerry的成绩\n",
    "scores[['disen', 'jerry']]"
   ]
  },
  {
   "cell_type": "code",
   "execution_count": 12,
   "metadata": {},
   "outputs": [
    {
     "data": {
      "text/plain": [
       "disen    16\n",
       "jack     30\n",
       "mark     59\n",
       "Name: python, dtype: int32"
      ]
     },
     "execution_count": 12,
     "metadata": {},
     "output_type": "execute_result"
    }
   ],
   "source": [
    "# 查看前三位同学的成绩\n",
    "scores['disen': 'mark']   # 索引名可以进行切片操作b"
   ]
  },
  {
   "cell_type": "code",
   "execution_count": 13,
   "metadata": {},
   "outputs": [
    {
     "data": {
      "text/plain": [
       "16"
      ]
     },
     "execution_count": 13,
     "metadata": {},
     "output_type": "execute_result"
    }
   ],
   "source": [
    "scores.loc['disen']"
   ]
  },
  {
   "cell_type": "code",
   "execution_count": 14,
   "metadata": {},
   "outputs": [
    {
     "data": {
      "text/plain": [
       "disen    16\n",
       "jerry    12\n",
       "Name: python, dtype: int32"
      ]
     },
     "execution_count": 14,
     "metadata": {},
     "output_type": "execute_result"
    }
   ],
   "source": [
    "scores.loc[['disen', 'jerry']]"
   ]
  },
  {
   "cell_type": "code",
   "execution_count": 15,
   "metadata": {},
   "outputs": [
    {
     "data": {
      "text/plain": [
       "rose     20\n",
       "jerry    12\n",
       "Name: python, dtype: int32"
      ]
     },
     "execution_count": 15,
     "metadata": {},
     "output_type": "execute_result"
    }
   ],
   "source": [
    "# 查看最后两位同学的成绩\n",
    "scores.iloc[-2:]"
   ]
  },
  {
   "cell_type": "markdown",
   "metadata": {},
   "source": [
    "### Series的属性\n",
    "- dtype 数据类型\n",
    "- shape 数据的形状， 如 (43, )\n",
    "- values 数据集， nadarray类型\n",
    "- index 行索引名的类表， Index\n",
    "- name  数据集的名称"
   ]
  },
  {
   "cell_type": "code",
   "execution_count": 20,
   "metadata": {},
   "outputs": [
    {
     "data": {
      "text/plain": [
       "Index(['disen', 'jack', 'mark', 'rose', 'jerry'], dtype='object')"
      ]
     },
     "execution_count": 20,
     "metadata": {},
     "output_type": "execute_result"
    }
   ],
   "source": [
    "# scores.dtype\n",
    "# scores.shape\n",
    "# weights.shape\n",
    "# scores.values  \n",
    "scores.index"
   ]
  },
  {
   "cell_type": "code",
   "execution_count": 23,
   "metadata": {
    "collapsed": true
   },
   "outputs": [
    {
     "data": {
      "text/plain": [
       "disen    170\n",
       "jack     185\n",
       "mark     173\n",
       "rose     162\n",
       "jerry    155\n",
       "dtype: int32"
      ]
     },
     "execution_count": 23,
     "metadata": {},
     "output_type": "execute_result"
    }
   ],
   "source": [
    "# 使用scores.index索引， 为这位学员创建身高信息\n",
    "persons_heights = Series(np.random.randint(155, 190, size=5),\n",
    "                        index=scores.index)\n",
    "persons_heights"
   ]
  },
  {
   "cell_type": "markdown",
   "metadata": {},
   "source": [
    "### head() 和 tail()"
   ]
  },
  {
   "cell_type": "code",
   "execution_count": 24,
   "metadata": {},
   "outputs": [
    {
     "data": {
      "text/plain": [
       "0    97\n",
       "1    59\n",
       "2    56\n",
       "3    89\n",
       "4    57\n",
       "Name: weight(kg), dtype: int32"
      ]
     },
     "execution_count": 24,
     "metadata": {},
     "output_type": "execute_result"
    }
   ],
   "source": [
    "weights.head() # 默认显示前5条数据"
   ]
  },
  {
   "cell_type": "code",
   "execution_count": 26,
   "metadata": {},
   "outputs": [
    {
     "data": {
      "text/plain": [
       "0     97\n",
       "1     59\n",
       "2     56\n",
       "3     89\n",
       "4     57\n",
       "5     56\n",
       "6    114\n",
       "7     52\n",
       "8     86\n",
       "9     52\n",
       "Name: weight(kg), dtype: int32"
      ]
     },
     "execution_count": 26,
     "metadata": {},
     "output_type": "execute_result"
    }
   ],
   "source": [
    "weights.head(n=10) # 显示前10条数据"
   ]
  },
  {
   "cell_type": "code",
   "execution_count": 25,
   "metadata": {},
   "outputs": [
    {
     "data": {
      "text/plain": [
       "RangeIndex(start=0, stop=42, step=1)"
      ]
     },
     "execution_count": 25,
     "metadata": {},
     "output_type": "execute_result"
    }
   ],
   "source": [
    "weights.index"
   ]
  },
  {
   "cell_type": "code",
   "execution_count": 27,
   "metadata": {},
   "outputs": [
    {
     "data": {
      "text/plain": [
       "37    79\n",
       "38    52\n",
       "39    92\n",
       "40    89\n",
       "41    54\n",
       "Name: weight(kg), dtype: int32"
      ]
     },
     "execution_count": 27,
     "metadata": {},
     "output_type": "execute_result"
    }
   ],
   "source": [
    "weights.tail() # 默认最后5条数据"
   ]
  },
  {
   "cell_type": "markdown",
   "metadata": {},
   "source": [
    "### NaN(not a num)值的处理\n",
    "- isnull()\n",
    "- notnull()"
   ]
  },
  {
   "cell_type": "code",
   "execution_count": 30,
   "metadata": {},
   "outputs": [
    {
     "data": {
      "text/plain": [
       "disen    26\n",
       "jack     51\n",
       "mark     49\n",
       "rose     85\n",
       "jerry    51\n",
       "Name: python, dtype: int32"
      ]
     },
     "execution_count": 30,
     "metadata": {},
     "output_type": "execute_result"
    }
   ],
   "source": [
    "scores"
   ]
  },
  {
   "cell_type": "code",
   "execution_count": 32,
   "metadata": {},
   "outputs": [
    {
     "data": {
      "text/plain": [
       "disen    26.0\n",
       "jack      NaN\n",
       "mark     49.0\n",
       "rose     85.0\n",
       "jerry    51.0\n",
       "Name: python, dtype: float64"
      ]
     },
     "execution_count": 32,
     "metadata": {},
     "output_type": "execute_result"
    }
   ],
   "source": [
    "# np.NAN/np.NaN/np.nan\n",
    "#NAN -> Not a Number\n",
    "scores['jack'] = np.nan  # scores.iloc[1]\n",
    "scores"
   ]
  },
  {
   "cell_type": "code",
   "execution_count": 33,
   "metadata": {},
   "outputs": [
    {
     "data": {
      "text/plain": [
       "disen    False\n",
       "jack      True\n",
       "mark     False\n",
       "rose     False\n",
       "jerry    False\n",
       "Name: python, dtype: bool"
      ]
     },
     "execution_count": 33,
     "metadata": {},
     "output_type": "execute_result"
    }
   ],
   "source": [
    "scores.isnull()  # 索引对应的值变成bool"
   ]
  },
  {
   "cell_type": "code",
   "execution_count": 34,
   "metadata": {},
   "outputs": [
    {
     "data": {
      "text/plain": [
       "jack   NaN\n",
       "Name: python, dtype: float64"
      ]
     },
     "execution_count": 34,
     "metadata": {},
     "output_type": "execute_result"
    }
   ],
   "source": [
    "# 查出没有成绩的人员姓名\n",
    "# 根据isnull()结果， 将数值为True的索引标签提取，作为scores索引选择的数据\n",
    "scores[scores.isnull()]  # == scores['jack']"
   ]
  },
  {
   "cell_type": "code",
   "execution_count": 37,
   "metadata": {
    "collapsed": true
   },
   "outputs": [
    {
     "data": {
      "text/plain": [
       "0      97.0\n",
       "1       NaN\n",
       "2      56.0\n",
       "3      89.0\n",
       "4      57.0\n",
       "5      56.0\n",
       "6     114.0\n",
       "7       NaN\n",
       "8      86.0\n",
       "9       NaN\n",
       "10     56.0\n",
       "11      NaN\n",
       "12     91.0\n",
       "13    119.0\n",
       "14     98.0\n",
       "15     81.0\n",
       "16     74.0\n",
       "17    105.0\n",
       "18     66.0\n",
       "19    100.0\n",
       "20      NaN\n",
       "21     97.0\n",
       "22    100.0\n",
       "23     80.0\n",
       "24    107.0\n",
       "25     73.0\n",
       "26     77.0\n",
       "27     70.0\n",
       "28     85.0\n",
       "29    111.0\n",
       "30     52.0\n",
       "31     81.0\n",
       "32     52.0\n",
       "33      NaN\n",
       "34     75.0\n",
       "35     95.0\n",
       "36     87.0\n",
       "37     79.0\n",
       "38      NaN\n",
       "39     92.0\n",
       "40     89.0\n",
       "41     54.0\n",
       "Name: weight(kg), dtype: float64"
      ]
     },
     "execution_count": 37,
     "metadata": {},
     "output_type": "execute_result"
    }
   ],
   "source": [
    "weights.iloc[[1, 7, 9, 11, 20, 33, 38]] = np.nan\n",
    "weights"
   ]
  },
  {
   "cell_type": "code",
   "execution_count": 38,
   "metadata": {},
   "outputs": [
    {
     "data": {
      "text/plain": [
       "1    NaN\n",
       "7    NaN\n",
       "9    NaN\n",
       "11   NaN\n",
       "20   NaN\n",
       "33   NaN\n",
       "38   NaN\n",
       "Name: weight(kg), dtype: float64"
      ]
     },
     "execution_count": 38,
     "metadata": {},
     "output_type": "execute_result"
    }
   ],
   "source": [
    "weights[weights.isnull()]  # 提取没有数值的数据集"
   ]
  },
  {
   "cell_type": "code",
   "execution_count": 39,
   "metadata": {
    "collapsed": true
   },
   "outputs": [
    {
     "data": {
      "text/plain": [
       "0      97.0\n",
       "2      56.0\n",
       "3      89.0\n",
       "4      57.0\n",
       "5      56.0\n",
       "6     114.0\n",
       "8      86.0\n",
       "10     56.0\n",
       "12     91.0\n",
       "13    119.0\n",
       "14     98.0\n",
       "15     81.0\n",
       "16     74.0\n",
       "17    105.0\n",
       "18     66.0\n",
       "19    100.0\n",
       "21     97.0\n",
       "22    100.0\n",
       "23     80.0\n",
       "24    107.0\n",
       "25     73.0\n",
       "26     77.0\n",
       "27     70.0\n",
       "28     85.0\n",
       "29    111.0\n",
       "30     52.0\n",
       "31     81.0\n",
       "32     52.0\n",
       "34     75.0\n",
       "35     95.0\n",
       "36     87.0\n",
       "37     79.0\n",
       "39     92.0\n",
       "40     89.0\n",
       "41     54.0\n",
       "Name: weight(kg), dtype: float64"
      ]
     },
     "execution_count": 39,
     "metadata": {},
     "output_type": "execute_result"
    }
   ],
   "source": [
    "# 提取有数据的数据集\n",
    "weights[weights.notnull()]"
   ]
  },
  {
   "cell_type": "code",
   "execution_count": 40,
   "metadata": {
    "collapsed": true
   },
   "outputs": [
    {
     "data": {
      "text/plain": [
       "0      True\n",
       "1     False\n",
       "2      True\n",
       "3      True\n",
       "4      True\n",
       "5      True\n",
       "6      True\n",
       "7     False\n",
       "8      True\n",
       "9     False\n",
       "10     True\n",
       "11    False\n",
       "12     True\n",
       "13     True\n",
       "14     True\n",
       "15     True\n",
       "16     True\n",
       "17     True\n",
       "18     True\n",
       "19     True\n",
       "20    False\n",
       "21     True\n",
       "22     True\n",
       "23     True\n",
       "24     True\n",
       "25     True\n",
       "26     True\n",
       "27     True\n",
       "28     True\n",
       "29     True\n",
       "30     True\n",
       "31     True\n",
       "32     True\n",
       "33    False\n",
       "34     True\n",
       "35     True\n",
       "36     True\n",
       "37     True\n",
       "38    False\n",
       "39     True\n",
       "40     True\n",
       "41     True\n",
       "Name: weight(kg), dtype: bool"
      ]
     },
     "execution_count": 40,
     "metadata": {},
     "output_type": "execute_result"
    }
   ],
   "source": [
    "weights.notnull()"
   ]
  },
  {
   "cell_type": "markdown",
   "metadata": {},
   "source": [
    "### Series运算\n",
    "- ndarray的算数运算，完全适合于Series\n",
    "- 如果对数据中存在Nan值进行预处理，则使用Series本身提供的算数运算的函数"
   ]
  },
  {
   "cell_type": "code",
   "execution_count": 44,
   "metadata": {},
   "outputs": [],
   "source": [
    "class A:\n",
    "    def __init__(self, n):\n",
    "        self.n = n \n",
    "        \n",
    "    def __add__(self, value):\n",
    "        return self.n + value\n",
    "    \n",
    "    def __gt__(self, value):\n",
    "        if isinstance(value, int):\n",
    "            return self.n > value\n",
    "        elif isinstance(value, A):\n",
    "            return self.n > value.n\n",
    "        return False\n",
    "\n",
    "    def __gte__(self, value):\n",
    "        return self.n >= value\n",
    "    \n",
    "    def __str__(self):\n",
    "        return str(self.n)"
   ]
  },
  {
   "cell_type": "code",
   "execution_count": 42,
   "metadata": {},
   "outputs": [
    {
     "name": "stdout",
     "output_type": "stream",
     "text": [
      "110\n",
      "ok\n"
     ]
    }
   ],
   "source": [
    "a = A(10)\n",
    "a += 100\n",
    "print(a)\n",
    "\n",
    "if a > 100:\n",
    "    print('ok')"
   ]
  },
  {
   "cell_type": "code",
   "execution_count": null,
   "metadata": {},
   "outputs": [],
   "source": [
    "a2 = A(90)\n",
    "if a> a2:\n",
    "    print('ok')"
   ]
  },
  {
   "cell_type": "code",
   "execution_count": 45,
   "metadata": {},
   "outputs": [
    {
     "name": "stdout",
     "output_type": "stream",
     "text": [
      "100\n"
     ]
    }
   ],
   "source": [
    "a2 = A(100)\n",
    "print(a2)"
   ]
  },
  {
   "cell_type": "code",
   "execution_count": 46,
   "metadata": {},
   "outputs": [
    {
     "data": {
      "text/plain": [
       "False"
      ]
     },
     "execution_count": 46,
     "metadata": {},
     "output_type": "execute_result"
    }
   ],
   "source": [
    "a2 > a"
   ]
  },
  {
   "cell_type": "code",
   "execution_count": 47,
   "metadata": {},
   "outputs": [
    {
     "data": {
      "text/plain": [
       "disen    126.0\n",
       "jack       NaN\n",
       "mark     149.0\n",
       "rose     185.0\n",
       "jerry    151.0\n",
       "Name: python, dtype: float64"
      ]
     },
     "execution_count": 47,
     "metadata": {},
     "output_type": "execute_result"
    }
   ],
   "source": [
    "scores += 100\n",
    "scores"
   ]
  },
  {
   "cell_type": "code",
   "execution_count": 49,
   "metadata": {},
   "outputs": [
    {
     "data": {
      "text/plain": [
       "disen    226.0\n",
       "jack     100.0\n",
       "mark     249.0\n",
       "rose     285.0\n",
       "jerry    251.0\n",
       "Name: python, dtype: float64"
      ]
     },
     "execution_count": 49,
     "metadata": {},
     "output_type": "execute_result"
    }
   ],
   "source": [
    "# fill_value指定Nan的填充值，add()返回运算后的结果\n",
    "scores_2 = scores.add(100, fill_value=0) \n",
    "scores_2"
   ]
  },
  {
   "cell_type": "code",
   "execution_count": 50,
   "metadata": {},
   "outputs": [
    {
     "data": {
      "text/plain": [
       "disen    121.0\n",
       "jack      -5.0\n",
       "mark     144.0\n",
       "rose     180.0\n",
       "jerry    146.0\n",
       "Name: python, dtype: float64"
      ]
     },
     "execution_count": 50,
     "metadata": {},
     "output_type": "execute_result"
    }
   ],
   "source": [
    "scores.sub(5, fill_value=0) # 减法"
   ]
  },
  {
   "cell_type": "code",
   "execution_count": 51,
   "metadata": {},
   "outputs": [
    {
     "data": {
      "text/plain": [
       "disen    252.0\n",
       "jack       0.0\n",
       "mark     298.0\n",
       "rose     370.0\n",
       "jerry    302.0\n",
       "Name: python, dtype: float64"
      ]
     },
     "execution_count": 51,
     "metadata": {},
     "output_type": "execute_result"
    }
   ],
   "source": [
    "scores.mul(2, fill_value=0) # 乘法"
   ]
  },
  {
   "cell_type": "code",
   "execution_count": 52,
   "metadata": {},
   "outputs": [
    {
     "data": {
      "text/plain": [
       "disen    63.0\n",
       "jack      0.0\n",
       "mark     74.5\n",
       "rose     92.5\n",
       "jerry    75.5\n",
       "Name: python, dtype: float64"
      ]
     },
     "execution_count": 52,
     "metadata": {},
     "output_type": "execute_result"
    }
   ],
   "source": [
    "scores.div(2, fill_value=0)  # 除法"
   ]
  },
  {
   "cell_type": "markdown",
   "metadata": {},
   "source": [
    "练习3：\n",
    "1. 想一想Series运算和ndarray运算的规则有什么不同？\n",
    "2. 新建另一个索引包含“文综”的Series s2，并与s2进行多种算术操作。思考如何保存所有数据"
   ]
  },
  {
   "cell_type": "markdown",
   "metadata": {},
   "source": [
    "1.Serie和ndarrayde区别\n",
    "- Series是一个类似一维数组， 而ndarray可以是多维数组\n",
    "- Series没有广播机制，ndarray有广播机制\n",
    "- Series的索引操作支持索引标签和.loc[], .iloc[]，而ndarray只能使用索引位置\n",
    "- Series的数据集可能会存在Nan值，并提供相关的运算函数对Nan预处理，而ndarray中不能存在Nan值。"
   ]
  },
  {
   "cell_type": "code",
   "execution_count": 54,
   "metadata": {},
   "outputs": [
    {
     "data": {
      "text/plain": [
       "政治    80\n",
       "历史    90\n",
       "地理    95\n",
       "Name: 文综, dtype: int64"
      ]
     },
     "execution_count": 54,
     "metadata": {},
     "output_type": "execute_result"
    }
   ],
   "source": [
    "s2 = Series({\n",
    "    '政治': 80,\n",
    "    '历史': 90,\n",
    "    '地理': 95\n",
    "},name='文综')\n",
    "s2"
   ]
  },
  {
   "cell_type": "code",
   "execution_count": 62,
   "metadata": {},
   "outputs": [],
   "source": [
    "s2 += 10"
   ]
  },
  {
   "cell_type": "code",
   "execution_count": 63,
   "metadata": {},
   "outputs": [
    {
     "data": {
      "text/plain": [
       "政治    80\n",
       "历史    90\n",
       "地理    95\n",
       "Name: 文综, dtype: int64"
      ]
     },
     "execution_count": 63,
     "metadata": {},
     "output_type": "execute_result"
    }
   ],
   "source": [
    "s2 = s2.sub(10)\n",
    "s2"
   ]
  },
  {
   "cell_type": "code",
   "execution_count": 64,
   "metadata": {},
   "outputs": [
    {
     "data": {
      "text/plain": [
       "95"
      ]
     },
     "execution_count": 64,
     "metadata": {},
     "output_type": "execute_result"
    }
   ],
   "source": [
    "s2.max()"
   ]
  },
  {
   "cell_type": "code",
   "execution_count": 65,
   "metadata": {},
   "outputs": [
    {
     "data": {
      "text/plain": [
       "80"
      ]
     },
     "execution_count": 65,
     "metadata": {},
     "output_type": "execute_result"
    }
   ],
   "source": [
    "# 最大值，最小值， 平均值， 总数， 中位值\n",
    "# s2.max(), s2.min(), s2.mean(), s2.size(), s2.median\n",
    "s2.min()"
   ]
  },
  {
   "cell_type": "code",
   "execution_count": 67,
   "metadata": {},
   "outputs": [
    {
     "data": {
      "text/plain": [
       "政治    80\n",
       "历史    90\n",
       "地理    95\n",
       "语文    80\n",
       "Name: 文综, dtype: int64"
      ]
     },
     "execution_count": 67,
     "metadata": {},
     "output_type": "execute_result"
    }
   ],
   "source": [
    "s2['语文'] = 80 # 增加新的索引\n",
    "s2"
   ]
  },
  {
   "cell_type": "code",
   "execution_count": 68,
   "metadata": {},
   "outputs": [
    {
     "data": {
      "text/plain": [
       "array([80, 90, 95], dtype=int64)"
      ]
     },
     "execution_count": 68,
     "metadata": {},
     "output_type": "execute_result"
    }
   ],
   "source": [
    "s2.unique()  # 去重"
   ]
  }
 ],
 "metadata": {
  "kernelspec": {
   "display_name": "Python 3",
   "language": "python",
   "name": "python3"
  },
  "language_info": {
   "codemirror_mode": {
    "name": "ipython",
    "version": 3
   },
   "file_extension": ".py",
   "mimetype": "text/x-python",
   "name": "python",
   "nbconvert_exporter": "python",
   "pygments_lexer": "ipython3",
   "version": "3.8.3"
  }
 },
 "nbformat": 4,
 "nbformat_minor": 2
}
