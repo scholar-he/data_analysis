{
 "cells": [
  {
   "cell_type": "code",
   "execution_count": 1,
   "metadata": {},
   "outputs": [],
   "source": [
    "import numpy as np"
   ]
  },
  {
   "cell_type": "code",
   "execution_count": 4,
   "metadata": {},
   "outputs": [
    {
     "data": {
      "text/plain": [
       "array([[12384,  1078,   557],\n",
       "       [24984,  2842,   701],\n",
       "       [25535,  2907,  1009],\n",
       "       [19205,  1470,   577],\n",
       "       [20113,  2263,  1356],\n",
       "       [18411,  2916,   554],\n",
       "       [14485,  1126,  1145],\n",
       "       [21606,  1865,  1393],\n",
       "       [14606,  1222,  1427],\n",
       "       [20195,  2582,  1342]])"
      ]
     },
     "execution_count": 4,
     "metadata": {},
     "output_type": "execute_result"
    }
   ],
   "source": [
    "# 创建10位员工的基本工资、绩效和奖金的信息\n",
    "salary = np.random.randint(10000,30000, size=(10, 1))\n",
    "jx = np.random.randint(1000, 3000, size=(10 ,1))\n",
    "jj = np.random.randint(500, 1500, size=(10, 1))\n",
    "persons = np.hstack((np.hstack((salary, jx)), jj))\n",
    "persons"
   ]
  },
  {
   "cell_type": "code",
   "execution_count": 5,
   "metadata": {},
   "outputs": [
    {
     "data": {
      "text/plain": [
       "array([[12384,  1078,   554],\n",
       "       [14485,  1126,   557],\n",
       "       [14606,  1222,   577],\n",
       "       [18411,  1470,   701],\n",
       "       [19205,  1865,  1009],\n",
       "       [20113,  2263,  1145],\n",
       "       [20195,  2582,  1342],\n",
       "       [21606,  2842,  1356],\n",
       "       [24984,  2907,  1393],\n",
       "       [25535,  2916,  1427]])"
      ]
     },
     "execution_count": 5,
     "metadata": {},
     "output_type": "execute_result"
    }
   ],
   "source": [
    "# 使用np.sort()函数，类似于内置的sorted()函数，会返回排序后的结果\n",
    "np.sort(persons, axis=0)  # 每一列的不同行数值排序"
   ]
  },
  {
   "cell_type": "code",
   "execution_count": 6,
   "metadata": {},
   "outputs": [
    {
     "data": {
      "text/plain": [
       "array([[  557,  1078, 12384],\n",
       "       [  701,  2842, 24984],\n",
       "       [ 1009,  2907, 25535],\n",
       "       [  577,  1470, 19205],\n",
       "       [ 1356,  2263, 20113],\n",
       "       [  554,  2916, 18411],\n",
       "       [ 1126,  1145, 14485],\n",
       "       [ 1393,  1865, 21606],\n",
       "       [ 1222,  1427, 14606],\n",
       "       [ 1342,  2582, 20195]])"
      ]
     },
     "execution_count": 6,
     "metadata": {},
     "output_type": "execute_result"
    }
   ],
   "source": [
    "np.sort(persons, axis=1)  # 每一行，按列值排序"
   ]
  },
  {
   "cell_type": "code",
   "execution_count": 8,
   "metadata": {},
   "outputs": [],
   "source": [
    "persons_copy = persons.copy()\n",
    "persons_copy.sort(axis=0)  # 类似于list.sort()函数，直接对数组进行排序"
   ]
  },
  {
   "cell_type": "code",
   "execution_count": 9,
   "metadata": {},
   "outputs": [
    {
     "data": {
      "text/plain": [
       "array([[12384,  1078,   554],\n",
       "       [14485,  1126,   557],\n",
       "       [14606,  1222,   577],\n",
       "       [18411,  1470,   701],\n",
       "       [19205,  1865,  1009],\n",
       "       [20113,  2263,  1145],\n",
       "       [20195,  2582,  1342],\n",
       "       [21606,  2842,  1356],\n",
       "       [24984,  2907,  1393],\n",
       "       [25535,  2916,  1427]])"
      ]
     },
     "execution_count": 9,
     "metadata": {},
     "output_type": "execute_result"
    }
   ],
   "source": [
    "persons_copy"
   ]
  },
  {
   "cell_type": "code",
   "execution_count": 11,
   "metadata": {},
   "outputs": [
    {
     "data": {
      "text/plain": [
       "array([[12384,  1078,   554],\n",
       "       [14485,  1126,   557],\n",
       "       [14606,  1222,   577],\n",
       "       [19205,  1470,  1009],\n",
       "       [20113,  2263,  1356],\n",
       "       [18411,  2916,   701],\n",
       "       [24984,  2842,  1145],\n",
       "       [21606,  1865,  1393],\n",
       "       [25535,  2907,  1427],\n",
       "       [20195,  2582,  1342]])"
      ]
     },
     "execution_count": 11,
     "metadata": {},
     "output_type": "execute_result"
    }
   ],
   "source": [
    "np.partition(persons, 2, axis=0)  # 部分排序，只排到前两个"
   ]
  },
  {
   "cell_type": "code",
   "execution_count": 13,
   "metadata": {},
   "outputs": [
    {
     "data": {
      "text/plain": [
       "array([[24984,  2907,  1393],\n",
       "       [25535,  2916,  1427]])"
      ]
     },
     "execution_count": 13,
     "metadata": {},
     "output_type": "execute_result"
    }
   ],
   "source": [
    "np.partition(persons, -2, axis=0)[-2:]"
   ]
  }
 ],
 "metadata": {
  "kernelspec": {
   "display_name": "Python 3",
   "language": "python",
   "name": "python3"
  },
  "language_info": {
   "codemirror_mode": {
    "name": "ipython",
    "version": 3
   },
   "file_extension": ".py",
   "mimetype": "text/x-python",
   "name": "python",
   "nbconvert_exporter": "python",
   "pygments_lexer": "ipython3",
   "version": "3.8.3"
  }
 },
 "nbformat": 4,
 "nbformat_minor": 2
}
