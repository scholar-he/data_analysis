{
 "cells": [
  {
   "cell_type": "code",
   "execution_count": null,
   "metadata": {},
   "outputs": [],
   "source": [
    "# 当前的代码块称之为单元\n",
    "# 单元的状态：编辑状态、选择状态\n",
    "# 编辑状态： 边框是绿色的，可以编写代码python或文档Markdown\n",
    "# ESC -> 选择状态： 边框是蓝色的，可以执行一些命令：\n",
    "#       A : 在当前的单元的上方创建新的单元（Cell）\n",
    "#       B : 在当前的单元的下方创建新的单元（Cell）\n",
    "#       X : 剪切当前的单元\n",
    "#       V : 粘贴之前复制或剪切的单元， shift+V ：之前复制或剪切的单元 粘贴到当前单元的上方\n",
    "#       C : 复制当前的单元\n",
    "#       Y ：将当前的单元转成code\n",
    "#       M ：将当前的单元转成Markdown\n",
    "#       DD ： 删除当前的单元\n",
    "#       O : 打开或关闭输出的结果\n",
    "#       L ：打开或关闭当前单元的行号"
   ]
  },
  {
   "cell_type": "code",
   "execution_count": 1,
   "metadata": {},
   "outputs": [
    {
     "data": {
      "text/plain": [
       "'Hecheng'"
      ]
     },
     "execution_count": 1,
     "metadata": {},
     "output_type": "execute_result"
    }
   ],
   "source": [
    "name = 'hecheng'\n",
    "name.title()  # 执行code的快捷键： Ctrl + Enter 只执行当前单元"
   ]
  },
  {
   "cell_type": "code",
   "execution_count": 4,
   "metadata": {},
   "outputs": [],
   "source": [
    "import random  # 执行code -> alt + enter 执行当前单元同时在下方执行新的cell"
   ]
  },
  {
   "cell_type": "code",
   "execution_count": null,
   "metadata": {},
   "outputs": [],
   "source": [
    "# 按tab键自动补全函数或属性，按shift + tab提示函数中的参数\n",
    "random.uniform()"
   ]
  },
  {
   "cell_type": "code",
   "execution_count": 25,
   "metadata": {},
   "outputs": [],
   "source": [
    "def new_random1(start_val, end_val):\n",
    "    for _ in range(100):\n",
    "        yield random.uniform(start_val, end_val)"
   ]
  },
  {
   "cell_type": "code",
   "execution_count": 26,
   "metadata": {},
   "outputs": [
    {
     "name": "stdout",
     "output_type": "stream",
     "text": [
      "77.8 µs ± 377 ns per loop (mean ± std. dev. of 7 runs, 10000 loops each)\n"
     ]
    }
   ],
   "source": [
    "%timeit list(new_random1(1, 2))"
   ]
  },
  {
   "cell_type": "code",
   "execution_count": 20,
   "metadata": {
    "collapsed": true
   },
   "outputs": [
    {
     "ename": "SyntaxError",
     "evalue": "invalid syntax (<ipython-input-20-920199c27920>, line 4)",
     "output_type": "error",
     "traceback": [
      "\u001b[1;36m  File \u001b[1;32m\"<ipython-input-20-920199c27920>\"\u001b[1;36m, line \u001b[1;32m4\u001b[0m\n\u001b[1;33m    ns.append(yield random.uniform(start_val, end_val))\u001b[0m\n\u001b[1;37m                  ^\u001b[0m\n\u001b[1;31mSyntaxError\u001b[0m\u001b[1;31m:\u001b[0m invalid syntax\n"
     ]
    }
   ],
   "source": [
    "def new_random(start_val, end_val):\n",
    "    ns = []\n",
    "    for _ in range(100):\n",
    "        ns.append(yield random.uniform(start_val, end_val)) \n",
    "    return ns"
   ]
  },
  {
   "cell_type": "code",
   "execution_count": 23,
   "metadata": {},
   "outputs": [
    {
     "name": "stdout",
     "output_type": "stream",
     "text": [
      "448 ns ± 8.46 ns per loop (mean ± std. dev. of 7 runs, 1000000 loops each)\n"
     ]
    }
   ],
   "source": [
    "%timeit new_random(1, 2)"
   ]
  }
 ],
 "metadata": {
  "kernelspec": {
   "display_name": "Python 3",
   "language": "python",
   "name": "python3"
  },
  "language_info": {
   "codemirror_mode": {
    "name": "ipython",
    "version": 3
   },
   "file_extension": ".py",
   "mimetype": "text/x-python",
   "name": "python",
   "nbconvert_exporter": "python",
   "pygments_lexer": "ipython3",
   "version": "3.7.1"
  }
 },
 "nbformat": 4,
 "nbformat_minor": 2
}
