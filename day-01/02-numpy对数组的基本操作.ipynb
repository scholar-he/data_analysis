{
 "cells": [
  {
   "cell_type": "code",
   "execution_count": 2,
   "metadata": {},
   "outputs": [],
   "source": [
    "import numpy as np"
   ]
  },
  {
   "cell_type": "code",
   "execution_count": 3,
   "metadata": {},
   "outputs": [
    {
     "data": {
      "text/plain": [
       "array([[ 70.5,  42.7, 107.9],\n",
       "       [ 54.3,  99.8,  94.8],\n",
       "       [140.6,  75.8,  96.1],\n",
       "       [  3.6, 126.3, 120.1],\n",
       "       [ 91.7,  55.6,  50. ],\n",
       "       [148.1,  62.2, 144.6],\n",
       "       [ 80.3,  99.3,  12.4],\n",
       "       [ 53.9, 120.6,  39.5],\n",
       "       [ 52.7, 118.6,  11.1],\n",
       "       [ 71.3,  28.5,  23.7]])"
      ]
     },
     "execution_count": 3,
     "metadata": {},
     "output_type": "execute_result"
    }
   ],
   "source": [
    "# 生成10位同学的python，Django，scrapy三门课的成绩（0-150）的数组\n",
    "scores = np.round(np.random.uniform(150, size=(10, 3)), 1)\n",
    "scores"
   ]
  },
  {
   "cell_type": "code",
   "execution_count": 5,
   "metadata": {},
   "outputs": [
    {
     "data": {
      "text/plain": [
       "(10, 3)"
      ]
     },
     "execution_count": 5,
     "metadata": {},
     "output_type": "execute_result"
    }
   ],
   "source": [
    "scores.shape"
   ]
  },
  {
   "cell_type": "markdown",
   "metadata": {},
   "source": [
    "### 索引操作\n",
    "- arr[index]\n",
    "- arr[row_index, col_index]"
   ]
  },
  {
   "cell_type": "code",
   "execution_count": 6,
   "metadata": {},
   "outputs": [
    {
     "data": {
      "text/plain": [
       "array([91.7, 55.6, 50. ])"
      ]
     },
     "execution_count": 6,
     "metadata": {},
     "output_type": "execute_result"
    }
   ],
   "source": [
    "# 查看第五位同学的所有课的成绩\n",
    "five_score = scores[4]\n",
    "five_score"
   ]
  },
  {
   "cell_type": "code",
   "execution_count": 7,
   "metadata": {},
   "outputs": [
    {
     "data": {
      "text/plain": [
       "55.6"
      ]
     },
     "execution_count": 7,
     "metadata": {},
     "output_type": "execute_result"
    }
   ],
   "source": [
    "scores[4][1] # 第五位同学的第二门成绩， 索引从零开始"
   ]
  },
  {
   "cell_type": "code",
   "execution_count": 9,
   "metadata": {},
   "outputs": [
    {
     "data": {
      "text/plain": [
       "55.6"
      ]
     },
     "execution_count": 9,
     "metadata": {},
     "output_type": "execute_result"
    }
   ],
   "source": [
    "scores[4, 1]"
   ]
  },
  {
   "cell_type": "markdown",
   "metadata": {},
   "source": [
    "### 索引切片\n",
    "- arr[start:end:step] 行切，如果是一维数组，同list切片相同\n",
    "- arr[:,start:end:step] 列切， 行索引部分是\"：\"表示所有行，也可使用行切"
   ]
  },
  {
   "cell_type": "code",
   "execution_count": 10,
   "metadata": {},
   "outputs": [
    {
     "data": {
      "text/plain": [
       "array([[ 70.5,  42.7, 107.9],\n",
       "       [ 54.3,  99.8,  94.8],\n",
       "       [140.6,  75.8,  96.1]])"
      ]
     },
     "execution_count": 10,
     "metadata": {},
     "output_type": "execute_result"
    }
   ],
   "source": [
    "# 查看前三位同学的所有成绩\n",
    "scores[:3]"
   ]
  },
  {
   "cell_type": "code",
   "execution_count": 12,
   "metadata": {},
   "outputs": [
    {
     "data": {
      "text/plain": [
       "array([[ 70.5,  42.7],\n",
       "       [ 54.3,  99.8],\n",
       "       [140.6,  75.8],\n",
       "       [  3.6, 126.3],\n",
       "       [ 91.7,  55.6],\n",
       "       [148.1,  62.2],\n",
       "       [ 80.3,  99.3],\n",
       "       [ 53.9, 120.6],\n",
       "       [ 52.7, 118.6],\n",
       "       [ 71.3,  28.5]])"
      ]
     },
     "execution_count": 12,
     "metadata": {},
     "output_type": "execute_result"
    }
   ],
   "source": [
    "# 查看所有同学的前两门课程的成绩\n",
    "scores[:, :2]"
   ]
  },
  {
   "cell_type": "code",
   "execution_count": 13,
   "metadata": {},
   "outputs": [
    {
     "data": {
      "text/plain": [
       "array([[ 70.5, 107.9],\n",
       "       [ 54.3,  94.8],\n",
       "       [140.6,  96.1],\n",
       "       [  3.6, 120.1],\n",
       "       [ 91.7,  50. ],\n",
       "       [148.1, 144.6],\n",
       "       [ 80.3,  12.4],\n",
       "       [ 53.9,  39.5],\n",
       "       [ 52.7,  11.1],\n",
       "       [ 71.3,  23.7]])"
      ]
     },
     "execution_count": 13,
     "metadata": {},
     "output_type": "execute_result"
    }
   ],
   "source": [
    "scores[:, [0, 2]]  # 查看所有人的第一门和第三门课程成绩"
   ]
  },
  {
   "cell_type": "code",
   "execution_count": 16,
   "metadata": {},
   "outputs": [
    {
     "data": {
      "text/plain": [
       "array([[ 70.5, 107.9],\n",
       "       [ 91.7,  50. ],\n",
       "       [ 80.3,  12.4]])"
      ]
     },
     "execution_count": 16,
     "metadata": {},
     "output_type": "execute_result"
    }
   ],
   "source": [
    "# 查看第一位、第五位、第七位同学的第一门，第三门课程成绩\n",
    "# 注意： ndarray不支持行和列同事局部选择\n",
    "scores[[0, 4, 6]][:, [0,2]]"
   ]
  },
  {
   "cell_type": "markdown",
   "metadata": {},
   "source": [
    "### ndarray的变形，reshape"
   ]
  },
  {
   "cell_type": "code",
   "execution_count": 17,
   "metadata": {},
   "outputs": [
    {
     "data": {
      "text/plain": [
       "array([188, 164, 158, 161, 164, 159, 159, 156, 186, 169])"
      ]
     },
     "execution_count": 17,
     "metadata": {},
     "output_type": "execute_result"
    }
   ],
   "source": [
    "heights = np.random.randint(155, 190, size=10)\n",
    "heights"
   ]
  },
  {
   "cell_type": "code",
   "execution_count": 18,
   "metadata": {},
   "outputs": [
    {
     "data": {
      "text/plain": [
       "array([[188, 164, 158, 161, 164],\n",
       "       [159, 159, 156, 186, 169]])"
      ]
     },
     "execution_count": 18,
     "metadata": {},
     "output_type": "execute_result"
    }
   ],
   "source": [
    "# 将十个元素大小的一维数组变形为三种形状：(2, 5), (5, 2), (10, 1)\n",
    "heights.reshape((2, 5))"
   ]
  },
  {
   "cell_type": "code",
   "execution_count": 19,
   "metadata": {},
   "outputs": [
    {
     "data": {
      "text/plain": [
       "array([[188, 164],\n",
       "       [158, 161],\n",
       "       [164, 159],\n",
       "       [159, 156],\n",
       "       [186, 169]])"
      ]
     },
     "execution_count": 19,
     "metadata": {},
     "output_type": "execute_result"
    }
   ],
   "source": [
    "heights.reshape((5, 2))"
   ]
  },
  {
   "cell_type": "code",
   "execution_count": 20,
   "metadata": {},
   "outputs": [
    {
     "data": {
      "text/plain": [
       "array([[188],\n",
       "       [164],\n",
       "       [158],\n",
       "       [161],\n",
       "       [164],\n",
       "       [159],\n",
       "       [159],\n",
       "       [156],\n",
       "       [186],\n",
       "       [169]])"
      ]
     },
     "execution_count": 20,
     "metadata": {},
     "output_type": "execute_result"
    }
   ],
   "source": [
    "heights.reshape((-1, 1)) # -1表示任意行数， 1 表示一列"
   ]
  },
  {
   "cell_type": "markdown",
   "metadata": {},
   "source": [
    "### 数组对象的转置 T/transpose()"
   ]
  },
  {
   "cell_type": "code",
   "execution_count": 22,
   "metadata": {},
   "outputs": [
    {
     "data": {
      "text/plain": [
       "array([[188, 164, 158, 161, 164],\n",
       "       [159, 159, 156, 186, 169]])"
      ]
     },
     "execution_count": 22,
     "metadata": {},
     "output_type": "execute_result"
    }
   ],
   "source": [
    "hh = heights.reshape((2, 5))\n",
    "hh"
   ]
  },
  {
   "cell_type": "code",
   "execution_count": 25,
   "metadata": {},
   "outputs": [
    {
     "data": {
      "text/plain": [
       "array([[188, 159],\n",
       "       [164, 159],\n",
       "       [158, 156],\n",
       "       [161, 186],\n",
       "       [164, 169]])"
      ]
     },
     "execution_count": 25,
     "metadata": {},
     "output_type": "execute_result"
    }
   ],
   "source": [
    "hh = heights.reshape((2, 5))\n",
    "hh.T"
   ]
  },
  {
   "cell_type": "code",
   "execution_count": 26,
   "metadata": {},
   "outputs": [
    {
     "data": {
      "text/plain": [
       "array([[188, 159],\n",
       "       [164, 159],\n",
       "       [158, 156],\n",
       "       [161, 186],\n",
       "       [164, 169]])"
      ]
     },
     "execution_count": 26,
     "metadata": {},
     "output_type": "execute_result"
    }
   ],
   "source": [
    "hh = heights.reshape((2, 5))\n",
    "hh.transpose()"
   ]
  },
  {
   "cell_type": "markdown",
   "metadata": {},
   "source": [
    "### ndarray的级联操作\n",
    "- np.concatenate((arr1, arr2), axis=0)\n",
    "- np.hstack((arr1, arr2))\n",
    "- np.vstack((arr1, arr2))"
   ]
  },
  {
   "cell_type": "code",
   "execution_count": 28,
   "metadata": {},
   "outputs": [
    {
     "data": {
      "text/plain": [
       "array([[161, 156],\n",
       "       [187, 189],\n",
       "       [167, 189]])"
      ]
     },
     "metadata": {},
     "output_type": "display_data"
    },
    {
     "data": {
      "text/plain": [
       "array([[159, 165],\n",
       "       [178, 166],\n",
       "       [183, 163]])"
      ]
     },
     "metadata": {},
     "output_type": "display_data"
    },
    {
     "data": {
      "text/plain": [
       "array([[184, 161],\n",
       "       [179, 163],\n",
       "       [158, 176]])"
      ]
     },
     "metadata": {},
     "output_type": "display_data"
    }
   ],
   "source": [
    "a_height = np.random.randint(155, 190, size=(3, 2))\n",
    "b_height = np.random.randint(155, 190, size=(3, 2))\n",
    "c_height = np.random.randint(155, 190, size=(3, 2))\n",
    "display(a_height, b_height, c_height)"
   ]
  },
  {
   "cell_type": "code",
   "execution_count": 33,
   "metadata": {},
   "outputs": [
    {
     "data": {
      "text/plain": [
       "array([[161, 156, 159, 165],\n",
       "       [187, 189, 178, 166],\n",
       "       [167, 189, 183, 163]])"
      ]
     },
     "execution_count": 33,
     "metadata": {},
     "output_type": "execute_result"
    }
   ],
   "source": [
    "# 将a和b的两个ndarray级联合并\n",
    "# axis=1 将每一个一维数组中的元素提取，加到对应行上\n",
    "np.concatenate((a_height, b_height), axis=1)  "
   ]
  },
  {
   "cell_type": "code",
   "execution_count": 60,
   "metadata": {},
   "outputs": [
    {
     "data": {
      "text/plain": [
       "array([[161, 156],\n",
       "       [187, 189],\n",
       "       [167, 189],\n",
       "       [159, 165],\n",
       "       [178, 166],\n",
       "       [183, 163]])"
      ]
     },
     "execution_count": 60,
     "metadata": {},
     "output_type": "execute_result"
    }
   ],
   "source": [
    "# 将a和b的两个ndarray级联合并\n",
    "# axis=0 将b中每一个一维数组提取，加到a所有数组之后\n",
    "np.concatenate((a_height, b_height), axis=0)  "
   ]
  },
  {
   "cell_type": "code",
   "execution_count": 31,
   "metadata": {},
   "outputs": [
    {
     "data": {
      "text/plain": [
       "array([[161, 156, 159, 165],\n",
       "       [187, 189, 178, 166],\n",
       "       [167, 189, 183, 163]])"
      ]
     },
     "execution_count": 31,
     "metadata": {},
     "output_type": "execute_result"
    }
   ],
   "source": [
    "np.hstack((a_height, b_height))"
   ]
  },
  {
   "cell_type": "code",
   "execution_count": 32,
   "metadata": {},
   "outputs": [
    {
     "data": {
      "text/plain": [
       "array([[161, 156],\n",
       "       [187, 189],\n",
       "       [167, 189],\n",
       "       [159, 165],\n",
       "       [178, 166],\n",
       "       [183, 163]])"
      ]
     },
     "execution_count": 32,
     "metadata": {},
     "output_type": "execute_result"
    }
   ],
   "source": [
    "np.vstack((a_height, b_height))"
   ]
  },
  {
   "cell_type": "code",
   "execution_count": 34,
   "metadata": {},
   "outputs": [
    {
     "data": {
      "text/plain": [
       "array([[[92, 71, 54, 89],\n",
       "        [ 9, 37, 17, 48]],\n",
       "\n",
       "       [[69, 30, 22,  4],\n",
       "        [94, 36, 15, 78]],\n",
       "\n",
       "       [[77, 12,  2, 87],\n",
       "        [83, 66, 86, 62]]])"
      ]
     },
     "metadata": {},
     "output_type": "display_data"
    },
    {
     "data": {
      "text/plain": [
       "array([[[94, 39, 84, 31],\n",
       "        [99, 34, 51, 86]],\n",
       "\n",
       "       [[24, 96, 80, 39],\n",
       "        [19, 55, 49, 53]],\n",
       "\n",
       "       [[99, 15, 91, 30],\n",
       "        [91,  9, 51, 58]]])"
      ]
     },
     "metadata": {},
     "output_type": "display_data"
    }
   ],
   "source": [
    "a =np.random.randint(100, size=(3, 2, 4))\n",
    "b =np.random.randint(100, size=(3, 2, 4))\n",
    "display(a ,b)"
   ]
  },
  {
   "cell_type": "code",
   "execution_count": 39,
   "metadata": {},
   "outputs": [
    {
     "data": {
      "text/plain": [
       "array([[[92, 71, 54, 89, 94, 39, 84, 31],\n",
       "        [ 9, 37, 17, 48, 99, 34, 51, 86]],\n",
       "\n",
       "       [[69, 30, 22,  4, 24, 96, 80, 39],\n",
       "        [94, 36, 15, 78, 19, 55, 49, 53]],\n",
       "\n",
       "       [[77, 12,  2, 87, 99, 15, 91, 30],\n",
       "        [83, 66, 86, 62, 91,  9, 51, 58]]])"
      ]
     },
     "execution_count": 39,
     "metadata": {},
     "output_type": "execute_result"
    }
   ],
   "source": [
    "np.concatenate((a, b), axis=2)  #"
   ]
  },
  {
   "cell_type": "markdown",
   "metadata": {},
   "source": [
    "### ndarray的切分 split"
   ]
  },
  {
   "cell_type": "code",
   "execution_count": 40,
   "metadata": {},
   "outputs": [
    {
     "data": {
      "text/plain": [
       "(6, 2, 4)"
      ]
     },
     "execution_count": 40,
     "metadata": {},
     "output_type": "execute_result"
    }
   ],
   "source": [
    "c = np.concatenate((a, b))\n",
    "c.shape"
   ]
  },
  {
   "cell_type": "code",
   "execution_count": 42,
   "metadata": {},
   "outputs": [
    {
     "data": {
      "text/plain": [
       "array([[92, 71, 54, 89],\n",
       "       [ 9, 37, 17, 48],\n",
       "       [69, 30, 22,  4],\n",
       "       [94, 36, 15, 78],\n",
       "       [77, 12,  2, 87],\n",
       "       [83, 66, 86, 62],\n",
       "       [94, 39, 84, 31],\n",
       "       [99, 34, 51, 86],\n",
       "       [24, 96, 80, 39],\n",
       "       [19, 55, 49, 53],\n",
       "       [99, 15, 91, 30],\n",
       "       [91,  9, 51, 58]])"
      ]
     },
     "execution_count": 42,
     "metadata": {},
     "output_type": "execute_result"
    }
   ],
   "source": [
    "d = c.reshape((-1 ,4))\n",
    "d"
   ]
  },
  {
   "cell_type": "code",
   "execution_count": 43,
   "metadata": {},
   "outputs": [
    {
     "data": {
      "text/plain": [
       "[array([[92, 71, 54, 89],\n",
       "        [ 9, 37, 17, 48]]), array([[69, 30, 22,  4],\n",
       "        [94, 36, 15, 78]]), array([[77, 12,  2, 87],\n",
       "        [83, 66, 86, 62]]), array([[94, 39, 84, 31],\n",
       "        [99, 34, 51, 86]]), array([[24, 96, 80, 39],\n",
       "        [19, 55, 49, 53]]), array([[99, 15, 91, 30],\n",
       "        [91,  9, 51, 58]])]"
      ]
     },
     "execution_count": 43,
     "metadata": {},
     "output_type": "execute_result"
    }
   ],
   "source": [
    "# 将c的ndarray从第四个开始分割出两个ndarray\n",
    "np.split(d, 6) # 如果 参数是 int 数值，表示平均分多少个数组"
   ]
  },
  {
   "cell_type": "code",
   "execution_count": 47,
   "metadata": {
    "scrolled": true
   },
   "outputs": [
    {
     "data": {
      "text/plain": [
       "[array([[92, 71, 54, 89],\n",
       "        [ 9, 37, 17, 48],\n",
       "        [69, 30, 22,  4]]), array([[94, 36, 15, 78],\n",
       "        [77, 12,  2, 87],\n",
       "        [83, 66, 86, 62],\n",
       "        [94, 39, 84, 31],\n",
       "        [99, 34, 51, 86],\n",
       "        [24, 96, 80, 39],\n",
       "        [19, 55, 49, 53],\n",
       "        [99, 15, 91, 30],\n",
       "        [91,  9, 51, 58]])]"
      ]
     },
     "execution_count": 47,
     "metadata": {},
     "output_type": "execute_result"
    }
   ],
   "source": [
    "# 如果切割indices_or_secions的参数是[]列表类型，表示从那一部分上分割\n",
    "np.split(d, [3])  "
   ]
  },
  {
   "cell_type": "code",
   "execution_count": 49,
   "metadata": {},
   "outputs": [
    {
     "data": {
      "text/plain": [
       "[array([[92, 71, 54, 89],\n",
       "        [ 9, 37, 17, 48],\n",
       "        [69, 30, 22,  4]]), array([[94, 36, 15, 78],\n",
       "        [77, 12,  2, 87]]), array([[83, 66, 86, 62],\n",
       "        [94, 39, 84, 31],\n",
       "        [99, 34, 51, 86],\n",
       "        [24, 96, 80, 39],\n",
       "        [19, 55, 49, 53],\n",
       "        [99, 15, 91, 30],\n",
       "        [91,  9, 51, 58]])]"
      ]
     },
     "execution_count": 49,
     "metadata": {},
     "output_type": "execute_result"
    }
   ],
   "source": [
    "# axis=0 纵向切割， 从维度的最外层看所有一维数组\n",
    "np.split(d, [3, 5], axis=0) # 将下标索引为3,4,5分割为一个ndarray"
   ]
  },
  {
   "cell_type": "code",
   "execution_count": 50,
   "metadata": {},
   "outputs": [
    {
     "data": {
      "text/plain": [
       "[array([[92, 71],\n",
       "        [ 9, 37],\n",
       "        [69, 30],\n",
       "        [94, 36],\n",
       "        [77, 12],\n",
       "        [83, 66],\n",
       "        [94, 39],\n",
       "        [99, 34],\n",
       "        [24, 96],\n",
       "        [19, 55],\n",
       "        [99, 15],\n",
       "        [91,  9]]), array([[54],\n",
       "        [17],\n",
       "        [22],\n",
       "        [15],\n",
       "        [ 2],\n",
       "        [86],\n",
       "        [84],\n",
       "        [51],\n",
       "        [80],\n",
       "        [49],\n",
       "        [91],\n",
       "        [51]]), array([[89],\n",
       "        [48],\n",
       "        [ 4],\n",
       "        [78],\n",
       "        [87],\n",
       "        [62],\n",
       "        [31],\n",
       "        [86],\n",
       "        [39],\n",
       "        [53],\n",
       "        [30],\n",
       "        [58]])]"
      ]
     },
     "execution_count": 50,
     "metadata": {},
     "output_type": "execute_result"
    }
   ],
   "source": [
    "# 将 d 的数组的第三列切割为一个ndarray\n",
    "np.split(d, [2, 3], axis=1)"
   ]
  },
  {
   "cell_type": "markdown",
   "metadata": {},
   "source": [
    "### nadrray的copy副本"
   ]
  },
  {
   "cell_type": "code",
   "execution_count": 51,
   "metadata": {},
   "outputs": [
    {
     "data": {
      "text/plain": [
       "array([[92, 71, 54, 89],\n",
       "       [ 9, 37, 17, 48],\n",
       "       [69, 30, 22,  4],\n",
       "       [94, 36, 15, 78],\n",
       "       [77, 12,  2, 87],\n",
       "       [83, 66, 86, 62],\n",
       "       [94, 39, 84, 31],\n",
       "       [99, 34, 51, 86],\n",
       "       [24, 96, 80, 39],\n",
       "       [19, 55, 49, 53],\n",
       "       [99, 15, 91, 30],\n",
       "       [91,  9, 51, 58]])"
      ]
     },
     "execution_count": 51,
     "metadata": {},
     "output_type": "execute_result"
    }
   ],
   "source": [
    "d2 = d.copy()\n",
    "d2"
   ]
  },
  {
   "cell_type": "code",
   "execution_count": 52,
   "metadata": {},
   "outputs": [
    {
     "data": {
      "text/plain": [
       "array([[100,  71,  54,  89],\n",
       "       [  9,  37,  17,  48],\n",
       "       [ 69,  30,  22,   4],\n",
       "       [ 94,  36,  15,  78],\n",
       "       [ 77,  12,   2,  87],\n",
       "       [ 83,  66,  86,  62],\n",
       "       [ 94,  39,  84,  31],\n",
       "       [ 99,  34,  51,  86],\n",
       "       [ 24,  96,  80,  39],\n",
       "       [ 19,  55,  49,  53],\n",
       "       [ 99,  15,  91,  30],\n",
       "       [ 91,   9,  51,  58]])"
      ]
     },
     "execution_count": 52,
     "metadata": {},
     "output_type": "execute_result"
    }
   ],
   "source": [
    "d2[0 , 0] = 100\n",
    "d2"
   ]
  },
  {
   "cell_type": "code",
   "execution_count": 53,
   "metadata": {},
   "outputs": [
    {
     "data": {
      "text/plain": [
       "array([[103,  63,  91],\n",
       "       [ 98,  91, 112],\n",
       "       [ 54,  98,  83],\n",
       "       [109,  81,  90],\n",
       "       [ 59,  73,  67]])"
      ]
     },
     "execution_count": 53,
     "metadata": {},
     "output_type": "execute_result"
    }
   ],
   "source": [
    "weights = np.random.randint(50, 120, size=(5, 3))\n",
    "weights"
   ]
  },
  {
   "cell_type": "code",
   "execution_count": 57,
   "metadata": {},
   "outputs": [
    {
     "data": {
      "text/plain": [
       "array([[103,  63,  91],\n",
       "       [ 98,  91, 112],\n",
       "       [ 54,  98,  83],\n",
       "       [109,  81,  90],\n",
       "       [ 59, 100, 100]])"
      ]
     },
     "execution_count": 57,
     "metadata": {},
     "output_type": "execute_result"
    }
   ],
   "source": [
    "weights_copy = weights.copy()  # 深度copy\n",
    "weights[-1, -1] = 100\n",
    "weights"
   ]
  },
  {
   "cell_type": "code",
   "execution_count": 58,
   "metadata": {},
   "outputs": [
    {
     "data": {
      "text/plain": [
       "array([[103,  63,  91],\n",
       "       [ 98,  91, 112],\n",
       "       [ 54,  98,  83],\n",
       "       [109,  81,  90],\n",
       "       [ 59, 100,  67]])"
      ]
     },
     "execution_count": 58,
     "metadata": {},
     "output_type": "execute_result"
    }
   ],
   "source": [
    "weights_copy"
   ]
  }
 ],
 "metadata": {
  "kernelspec": {
   "display_name": "Python 3",
   "language": "python",
   "name": "python3"
  },
  "language_info": {
   "codemirror_mode": {
    "name": "ipython",
    "version": 3
   },
   "file_extension": ".py",
   "mimetype": "text/x-python",
   "name": "python",
   "nbconvert_exporter": "python",
   "pygments_lexer": "ipython3",
   "version": "3.8.3"
  }
 },
 "nbformat": 4,
 "nbformat_minor": 2
}
